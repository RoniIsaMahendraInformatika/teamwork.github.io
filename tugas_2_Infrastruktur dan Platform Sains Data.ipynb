{
 "cells": [
  {
   "cell_type": "code",
   "execution_count": 6,
   "id": "eed7aec8-c75f-4ba7-90f8-95935e042895",
   "metadata": {},
   "outputs": [
    {
     "name": "stdout",
     "output_type": "stream",
     "text": [
      "Data telah disimpan ke file: chat_bersih.csv\n"
     ]
    }
   ],
   "source": [
    "import re\n",
    "import pandas as pd\n",
    "\n",
    "# Baca file teks hasil eksport\n",
    "file_path = \"chat.txt\"  # Ubah dengan nama file Anda\n",
    "with open(file_path, \"r\", encoding=\"utf-8\") as file:\n",
    "    lines = file.readlines()\n",
    "\n",
    "# Regex untuk memisahkan tanggal, waktu, pengirim, dan pesan\n",
    "pattern = r\"(\\d{1,2}/\\d{1,2}/\\d{2,4}) (\\d{1,2}\\.\\d{2}) - ([^:]+): (.+)\"\n",
    "\n",
    "# Parsing data\n",
    "data = []\n",
    "for line in lines:\n",
    "    match = re.match(pattern, line)\n",
    "    if match:\n",
    "        date, time, sender, message = match.groups()\n",
    "        data.append({\"Date\": date, \"Time\": time, \"Sender\": sender, \"Message\": message})\n",
    "\n",
    "# Buat DataFrame\n",
    "df = pd.DataFrame(data)\n",
    "\n",
    "# Simpan ke file CSV\n",
    "csv_file = \"chat_bersih.csv\"\n",
    "df.to_csv(csv_file, index=False)\n",
    "print(f\"Data telah disimpan ke file: {csv_file}\")\n"
   ]
  },
  {
   "cell_type": "code",
   "execution_count": 7,
   "id": "524ee711-151b-4674-86d6-351db7c4ec00",
   "metadata": {},
   "outputs": [
    {
     "name": "stdout",
     "output_type": "stream",
     "text": [
      "Hasil clustering telah disimpan ke chat_sudah_di_clustering.csv\n"
     ]
    },
    {
     "data": {
      "image/png": "[encoded data removed]",
      "text/plain": [
       "<Figure size 640x480 with 1 Axes>"
      ]
     },
     "metadata": {},
     "output_type": "display_data"
    }
   ],
   "source": [
    "from sklearn.feature_extraction.text import TfidfVectorizer\n",
    "from sklearn.cluster import KMeans\n",
    "import matplotlib.pyplot as plt\n",
    "\n",
    "# Load data dari CSV\n",
    "df = pd.read_csv(\"chat_cleaned.csv\")\n",
    "\n",
    "# Menggunakan kolom 'Message' untuk clustering\n",
    "messages = df['Message'].fillna(\"\")\n",
    "\n",
    "# Konversi pesan menjadi vektor TF-IDF\n",
    "vectorizer = TfidfVectorizer(stop_words=\"english\", max_features=1000)\n",
    "X = vectorizer.fit_transform(messages)\n",
    "\n",
    "# Buat model K-Means dengan 3 kluster\n",
    "kmeans = KMeans(n_clusters=3, random_state=42)\n",
    "df['Cluster'] = kmeans.fit_predict(X)\n",
    "\n",
    "# Simpan hasil clustering ke file baru\n",
    "df.to_csv(\"chat_sudah_di_clustering.csv\", index=False)\n",
    "print(\"Hasil clustering telah disimpan ke chat_sudah_di_clustering.csv\")\n",
    "\n",
    "# Visualisasi jumlah pesan per kluster\n",
    "df['Cluster'].value_counts().plot(kind=\"bar\", color=['yellow', 'orange', 'red'])\n",
    "plt.title(\"Jumlah Pesan per Kluster\")\n",
    "plt.xlabel(\"Kluster\")\n",
    "plt.ylabel(\"Jumlah Pesan\")\n",
    "plt.show()\n"
   ]
  },
  {
   "cell_type": "code",
   "execution_count": 8,
   "id": "9352b1f0-e8c1-42c8-bfeb-bc314ab22b44",
   "metadata": {},
   "outputs": [
    {
     "name": "stdout",
     "output_type": "stream",
     "text": [
      "Kluster 0: [('tidak', 370), ('<Media', 359), ('disertakan>', 359)]\n",
      "Kluster 1: [('iku', 33), ('ameh', 25), ('e', 15)]\n",
      "Kluster 2: [('ora', 84), ('Ora', 28), ('ono', 12)]\n"
     ]
    }
   ],
   "source": [
    "from collections import Counter\n",
    "\n",
    "# Mendapatkan 3 kata teratas untuk setiap kluster\n",
    "for cluster_id in range(3):  # Ganti dengan jumlah kluster\n",
    "    # Mengambil pesan-pesan dari kluster tertentu\n",
    "    cluster_messages = df[df['Cluster'] == cluster_id]['Message']\n",
    "    \n",
    "    # Mengonversi pesan menjadi string dan mengganti NaN dengan string kosong\n",
    "    cluster_messages = cluster_messages.fillna(\"\").astype(str)\n",
    "    \n",
    "    # Menggabungkan semua pesan dalam kluster menjadi satu string dan memisahkannya menjadi kata-kata\n",
    "    all_words = \" \".join(cluster_messages).split()\n",
    "    \n",
    "    # Mendapatkan 3 kata teratas menggunakan Counter\n",
    "    most_common_words = Counter(all_words).most_common(3)\n",
    "    \n",
    "    # Menampilkan hasil\n",
    "    print(f\"Kluster {cluster_id}: {most_common_words}\")\n"
   ]
  },
  {
   "cell_type": "code",
   "execution_count": 9,
   "id": "5b44b33d-020e-4e0e-9184-3591b2114962",
   "metadata": {},
   "outputs": [],
   "source": [
    "analysis_data = {\n",
    "    \"Kluster\": [0, 1, 2],\n",
    "    \"Analisis\": [\n",
    "        \"Berisi pesan yang banyak mengandung kata-kata terkait media yang tidak disertakan.\",\n",
    "        \"berisi konjungsi dalam bahasa jawa seperti iku(itu), ameh(ingin), dan kata sambung 'e' yang tergantung konteks\",\n",
    "        \"berisi kata 'tidak' dan 'ada'\"\n",
    "    ]\n",
    "}\n",
    "\n",
    "analysis_df = pd.DataFrame(analysis_data)\n",
    "analysis_df.to_csv(\"analisisFile.csv\", index=False)\n"
   ]
  },
  {
   "cell_type": "code",
   "execution_count": null,
   "id": "3e0d054e-bbd4-40da-bf3b-88216347a4bc",
   "metadata": {},
   "outputs": [],
   "source": []
  }
 ],
 "metadata": {
  "kernelspec": {
   "display_name": "Python 3 (ipykernel)",
   "language": "python",
   "name": "python3"
  },
  "language_info": {
   "codemirror_mode": {
    "name": "ipython",
    "version": 3
   },
   "file_extension": ".py",
   "mimetype": "text/x-python",
   "name": "python",
   "nbconvert_exporter": "python",
   "pygments_lexer": "ipython3",
   "version": "3.11.1"
  }
 },
 "nbformat": 4,
 "nbformat_minor": 5
}
